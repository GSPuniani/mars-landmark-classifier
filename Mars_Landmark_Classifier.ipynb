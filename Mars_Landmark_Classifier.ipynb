{
  "cells": [
    {
      "cell_type": "markdown",
      "metadata": {
        "id": "xX5P3nYelCRH"
      },
      "source": [
        "# Martian Landmark Classifier"
      ]
    },
    {
      "cell_type": "markdown",
      "metadata": {
        "id": "eN3hw1WUlYtl"
      },
      "source": [
        "This project is a fully deployed Martian Landmark Classifier. In this notebook, we build and train our deep learning neural network on the Mars orbital image (HiRISE) labeled data set version 3.2 to classify a given input image into one of the following categories of Martian landscapes:\n",
        "\n",
        "* bright dune\n",
        "* dark dune\n",
        "* crater\n",
        "* slope streak\n",
        "* impact ejecta\n",
        "* spider\n",
        "* swiss cheese\n",
        "* other\n"
      ]
    },
    {
      "cell_type": "markdown",
      "metadata": {
        "id": "Y5co9dKZk_kg"
      },
      "source": [
        "*From the data source*:\n",
        "\n",
        "[![DOI](https://zenodo.org/badge/DOI/10.5281/zenodo.4002935.svg)](https://doi.org/10.5281/zenodo.4002935)\n",
        "\n",
        "This dataset contains a total of 64,947 landmark images that were detected and extracted from HiRISE browse images, spanning 232 separate source images.\n",
        "\n",
        "This set was formed from 10,815 original landmarks. Each original landmark was cropped to a square bounding box that included the full extent of the landmark plus a 30-pixel margin to the left, right, top, and bottom. Each landmark was then resized to 227x227 pixels. 9,022 of these images were then augmented to generate 6 additional landmarks using the following methods:\n",
        "\n",
        "1. 90 degrees clockwise rotation\n",
        "2. 180 degrees clockwise rotation\n",
        "3. 270 degrees clockwise rotation\n",
        "4. Horizontal flip\n",
        "5. Vertical flip\n",
        "6. Random brightness adjustment\n",
        "\n",
        "The remaining 1,793 images were not augmented. Combining these with the 7*9,022 images, gives a total of 64,947 separate images."
      ]
    },
    {
      "cell_type": "markdown",
      "metadata": {
        "id": "_B6Rpi8Bm2bx"
      },
      "source": [
        "## Class Descriptions\n",
        "\n",
        "*From the data source*:\n",
        "\n",
        "* Bright dune and dark dune are two sand dune classes found on Mars. Dark dunes are completely defrosted, whereas bright dunes are not. Bright dunes are generally bright due to overlying frost and can exhibit black spots where parts of the dune are defrosting.\n",
        "\n",
        "* The crater class consists of crater images in which the diameter of the crater is greater than or equal to $\\frac{1}{5}$ the width of the image and the circular rim is visible for at least half the crater's circumference.\n",
        "\n",
        "* The slope streak class consists of images of dark flow-like features on slopes. These features are believed to be formed by a dry process in which overlying (bright) dust slides down a slope and reveals a darker sub-surface.\n",
        "\n",
        "* Impact ejecta refers to material that is blasted out from the impact of a meteorite or the eruption of a volcano. We also include cases in which the impact cleared away overlying dust, exposing the underlying surface. In some cases, the associated crater may be too small to see. Impact ejecta can also include lava that spilled out from the impact (blobby (\"lobate\") instead of blast-like), more like an eruption (triggered by the impact). Impact ejecta can be isolated, or they can form in clusters when the impactor breaks up into multiple fragments.\n",
        "\n",
        "* Spiders and Swiss cheese are phenomena that occur in the south polar region of Mars. Spiders have a central pit with radial troughs, and they are believed to form as a result of sublimation of carbon dioxide ice. This process can produce mineral deposits on top, which look like dark or light dust that highlights cracks in the $CO_2$ ice.  Spiders can resemble impact ejecta due to their radial troughs, but impact ejecta tends to have straight radial jets that fade as they get farther from the center.  The spider class also includes fan-like features that form when a geyser erupts through the $CO_2$ layer and the material is blown by the wind away from the cracks. Fans are typically unidirectional (following the wind direction), whereas impact ejecta often extends in multiple directions. Swiss cheese is a terrain type that consists of pits that are formed when the sun heats the ice making it sublimate (change solid to gas).\n",
        "\n",
        "* Other is a catch-all class that contains images that fit none of the defined classes of interest. This class makes up the majority of our data set."
      ]
    },
    {
      "cell_type": "markdown",
      "metadata": {
        "id": "OsMWFrW_krnE"
      },
      "source": [
        "Download and unzip the dataset. "
      ]
    },
    {
      "cell_type": "code",
      "execution_count": null,
      "metadata": {
        "id": "EM670qGCenxf"
      },
      "outputs": [],
      "source": [
        "# Code source: https://stackoverflow.com/questions/9419162/download-returned-zip-file-from-url\n",
        "import requests, zipfile, io\n",
        "r = requests.get(\"https://zenodo.org/record/4002935/files/hirise-map-proj-v3_2.zip?download=1\")\n",
        "z = zipfile.ZipFile(io.BytesIO(r.content))\n",
        "z.extractall(\"./\")"
      ]
    },
    {
      "cell_type": "markdown",
      "metadata": {
        "id": "HEmuUCQ_vDuK"
      },
      "source": [
        "Now we install and import TensorFlow, which is the deep learning framework for our model as well as the basis for our deloyment pipeline -- TFX."
      ]
    },
    {
      "cell_type": "code",
      "execution_count": null,
      "metadata": {
        "colab": {
          "base_uri": "https://localhost:8080/"
        },
        "id": "ucNuzJPCoz8I",
        "outputId": "ddb1ea37-becf-4c69-8615-45ad86e8f747"
      },
      "outputs": [
        {
          "name": "stdout",
          "output_type": "stream",
          "text": [
            "Requirement already satisfied: tensorflow in /usr/local/lib/python3.7/dist-packages (2.8.0)\n",
            "Requirement already satisfied: keras-preprocessing>=1.1.1 in /usr/local/lib/python3.7/dist-packages (from tensorflow) (1.1.2)\n",
            "Requirement already satisfied: grpcio<2.0,>=1.24.3 in /usr/local/lib/python3.7/dist-packages (from tensorflow) (1.44.0)\n",
            "Requirement already satisfied: setuptools in /usr/local/lib/python3.7/dist-packages (from tensorflow) (57.4.0)\n",
            "Requirement already satisfied: termcolor>=1.1.0 in /usr/local/lib/python3.7/dist-packages (from tensorflow) (1.1.0)\n",
            "Requirement already satisfied: absl-py>=0.4.0 in /usr/local/lib/python3.7/dist-packages (from tensorflow) (1.0.0)\n",
            "Requirement already satisfied: protobuf>=3.9.2 in /usr/local/lib/python3.7/dist-packages (from tensorflow) (3.17.3)\n",
            "Requirement already satisfied: six>=1.12.0 in /usr/local/lib/python3.7/dist-packages (from tensorflow) (1.15.0)\n",
            "Collecting tf-estimator-nightly==2.8.0.dev2021122109\n",
            "  Downloading tf_estimator_nightly-2.8.0.dev2021122109-py2.py3-none-any.whl (462 kB)\n",
            "\u001b[K     |████████████████████████████████| 462 kB 4.9 MB/s \n",
            "\u001b[?25hRequirement already satisfied: flatbuffers>=1.12 in /usr/local/lib/python3.7/dist-packages (from tensorflow) (2.0)\n",
            "Requirement already satisfied: numpy>=1.20 in /usr/local/lib/python3.7/dist-packages (from tensorflow) (1.21.6)\n",
            "Requirement already satisfied: tensorboard<2.9,>=2.8 in /usr/local/lib/python3.7/dist-packages (from tensorflow) (2.8.0)\n",
            "Requirement already satisfied: libclang>=9.0.1 in /usr/local/lib/python3.7/dist-packages (from tensorflow) (14.0.1)\n",
            "Requirement already satisfied: google-pasta>=0.1.1 in /usr/local/lib/python3.7/dist-packages (from tensorflow) (0.2.0)\n",
            "Requirement already satisfied: gast>=0.2.1 in /usr/local/lib/python3.7/dist-packages (from tensorflow) (0.5.3)\n",
            "Requirement already satisfied: keras<2.9,>=2.8.0rc0 in /usr/local/lib/python3.7/dist-packages (from tensorflow) (2.8.0)\n",
            "Requirement already satisfied: tensorflow-io-gcs-filesystem>=0.23.1 in /usr/local/lib/python3.7/dist-packages (from tensorflow) (0.25.0)\n",
            "Requirement already satisfied: opt-einsum>=2.3.2 in /usr/local/lib/python3.7/dist-packages (from tensorflow) (3.3.0)\n",
            "Requirement already satisfied: astunparse>=1.6.0 in /usr/local/lib/python3.7/dist-packages (from tensorflow) (1.6.3)\n",
            "Requirement already satisfied: wrapt>=1.11.0 in /usr/local/lib/python3.7/dist-packages (from tensorflow) (1.14.0)\n",
            "Requirement already satisfied: h5py>=2.9.0 in /usr/local/lib/python3.7/dist-packages (from tensorflow) (3.1.0)\n",
            "Requirement already satisfied: typing-extensions>=3.6.6 in /usr/local/lib/python3.7/dist-packages (from tensorflow) (4.2.0)\n",
            "Requirement already satisfied: wheel<1.0,>=0.23.0 in /usr/local/lib/python3.7/dist-packages (from astunparse>=1.6.0->tensorflow) (0.37.1)\n",
            "Requirement already satisfied: cached-property in /usr/local/lib/python3.7/dist-packages (from h5py>=2.9.0->tensorflow) (1.5.2)\n",
            "Requirement already satisfied: requests<3,>=2.21.0 in /usr/local/lib/python3.7/dist-packages (from tensorboard<2.9,>=2.8->tensorflow) (2.23.0)\n",
            "Requirement already satisfied: markdown>=2.6.8 in /usr/local/lib/python3.7/dist-packages (from tensorboard<2.9,>=2.8->tensorflow) (3.3.6)\n",
            "Requirement already satisfied: google-auth-oauthlib<0.5,>=0.4.1 in /usr/local/lib/python3.7/dist-packages (from tensorboard<2.9,>=2.8->tensorflow) (0.4.6)\n",
            "Requirement already satisfied: tensorboard-data-server<0.7.0,>=0.6.0 in /usr/local/lib/python3.7/dist-packages (from tensorboard<2.9,>=2.8->tensorflow) (0.6.1)\n",
            "Requirement already satisfied: tensorboard-plugin-wit>=1.6.0 in /usr/local/lib/python3.7/dist-packages (from tensorboard<2.9,>=2.8->tensorflow) (1.8.1)\n",
            "Requirement already satisfied: google-auth<3,>=1.6.3 in /usr/local/lib/python3.7/dist-packages (from tensorboard<2.9,>=2.8->tensorflow) (1.35.0)\n",
            "Requirement already satisfied: werkzeug>=0.11.15 in /usr/local/lib/python3.7/dist-packages (from tensorboard<2.9,>=2.8->tensorflow) (1.0.1)\n",
            "Requirement already satisfied: rsa<5,>=3.1.4 in /usr/local/lib/python3.7/dist-packages (from google-auth<3,>=1.6.3->tensorboard<2.9,>=2.8->tensorflow) (4.8)\n",
            "Requirement already satisfied: pyasn1-modules>=0.2.1 in /usr/local/lib/python3.7/dist-packages (from google-auth<3,>=1.6.3->tensorboard<2.9,>=2.8->tensorflow) (0.2.8)\n",
            "Requirement already satisfied: cachetools<5.0,>=2.0.0 in /usr/local/lib/python3.7/dist-packages (from google-auth<3,>=1.6.3->tensorboard<2.9,>=2.8->tensorflow) (4.2.4)\n",
            "Requirement already satisfied: requests-oauthlib>=0.7.0 in /usr/local/lib/python3.7/dist-packages (from google-auth-oauthlib<0.5,>=0.4.1->tensorboard<2.9,>=2.8->tensorflow) (1.3.1)\n",
            "Requirement already satisfied: importlib-metadata>=4.4 in /usr/local/lib/python3.7/dist-packages (from markdown>=2.6.8->tensorboard<2.9,>=2.8->tensorflow) (4.11.3)\n",
            "Requirement already satisfied: zipp>=0.5 in /usr/local/lib/python3.7/dist-packages (from importlib-metadata>=4.4->markdown>=2.6.8->tensorboard<2.9,>=2.8->tensorflow) (3.8.0)\n",
            "Requirement already satisfied: pyasn1<0.5.0,>=0.4.6 in /usr/local/lib/python3.7/dist-packages (from pyasn1-modules>=0.2.1->google-auth<3,>=1.6.3->tensorboard<2.9,>=2.8->tensorflow) (0.4.8)\n",
            "Requirement already satisfied: idna<3,>=2.5 in /usr/local/lib/python3.7/dist-packages (from requests<3,>=2.21.0->tensorboard<2.9,>=2.8->tensorflow) (2.10)\n",
            "Requirement already satisfied: urllib3!=1.25.0,!=1.25.1,<1.26,>=1.21.1 in /usr/local/lib/python3.7/dist-packages (from requests<3,>=2.21.0->tensorboard<2.9,>=2.8->tensorflow) (1.24.3)\n",
            "Requirement already satisfied: certifi>=2017.4.17 in /usr/local/lib/python3.7/dist-packages (from requests<3,>=2.21.0->tensorboard<2.9,>=2.8->tensorflow) (2021.10.8)\n",
            "Requirement already satisfied: chardet<4,>=3.0.2 in /usr/local/lib/python3.7/dist-packages (from requests<3,>=2.21.0->tensorboard<2.9,>=2.8->tensorflow) (3.0.4)\n",
            "Requirement already satisfied: oauthlib>=3.0.0 in /usr/local/lib/python3.7/dist-packages (from requests-oauthlib>=0.7.0->google-auth-oauthlib<0.5,>=0.4.1->tensorboard<2.9,>=2.8->tensorflow) (3.2.0)\n",
            "Installing collected packages: tf-estimator-nightly\n",
            "Successfully installed tf-estimator-nightly-2.8.0.dev2021122109\n"
          ]
        }
      ],
      "source": [
        "!pip install tensorflow"
      ]
    },
    {
      "cell_type": "code",
      "execution_count": null,
      "metadata": {
        "colab": {
          "base_uri": "https://localhost:8080/"
        },
        "id": "MjsIgo6cvc6K",
        "outputId": "1095c180-21f6-480c-d56c-08a8a8b41c47"
      },
      "outputs": [
        {
          "name": "stdout",
          "output_type": "stream",
          "text": [
            "TensorFlow version: 2.8.0\n"
          ]
        }
      ],
      "source": [
        "import tensorflow as tf\n",
        "print(\"TensorFlow version:\", tf.__version__)\n",
        "\n",
        "from tensorflow.keras.layers import Dense, Flatten, Conv2D, Dropout, MaxPool2D\n",
        "from tensorflow.keras import Model"
      ]
    },
    {
      "cell_type": "markdown",
      "metadata": {
        "id": "GBFpS0kl0NMI"
      },
      "source": [
        "## Model Initializations\n",
        "\n",
        "For the sake of readability, we initialize our TensorFlow model dependencies here in the global namespace. More specifically, we are using TensorFlow's Keras submodules. "
      ]
    },
    {
      "cell_type": "code",
      "execution_count": null,
      "metadata": {
        "id": "5jSOSZe4y1o2"
      },
      "outputs": [],
      "source": [
        "# Categorical Encoding\n",
        "to_categorical =      tf.keras.utils.to_categorical\n",
        "\n",
        "# Sequential Layer Architecture\n",
        "Sequential =          tf.keras.models.Sequential\n",
        "\n",
        "# CNN Layer States\n",
        "Dense =               tf.keras.layers.Dense\n",
        "Dropout =             tf.keras.layers.Dropout\n",
        "Flatten =             tf.keras.layers.Flatten\n",
        "Conv2D =              tf.keras.layers.Conv2D\n",
        "MaxPool2D =           tf.keras.layers.MaxPool2D\n",
        "\n",
        "# Gradient Optimizers\n",
        "# RMSprop =             tf.keras.optimizers.RMSprop\n",
        "Adam =                tf.keras.optimizers.Adam\n",
        "# Nadam =               tf.keras.optimizers.Nadam"
      ]
    },
    {
      "cell_type": "markdown",
      "metadata": {
        "id": "TaJWEkkF022e"
      },
      "source": [
        "## Configurations and Data Pre-processing"
      ]
    },
    {
      "cell_type": "markdown",
      "metadata": {
        "id": "ytwIKvzr1IXk"
      },
      "source": [
        "Declare number of output classes."
      ]
    },
    {
      "cell_type": "code",
      "execution_count": null,
      "metadata": {
        "id": "mh52u60iAx7D"
      },
      "outputs": [],
      "source": [
        "NUM_CLASSES = 7 #or 8? Is other included?"
      ]
    },
    {
      "cell_type": "markdown",
      "metadata": {
        "id": "Lh78i3IV1HH-"
      },
      "source": [
        "Load and prepare the dataset."
      ]
    },
    {
      "cell_type": "code",
      "execution_count": null,
      "metadata": {
        "id": "zRT0Q4SxguTw"
      },
      "outputs": [],
      "source": [
        "from PIL import Image # Image manipulations\n",
        "import matplotlib.pyplot as plt\n",
        "from keras.preprocessing.image import load_img"
      ]
    },
    {
      "cell_type": "code",
      "execution_count": null,
      "metadata": {
        "id": "YzTgBcfAes7u"
      },
      "outputs": [],
      "source": [
        "import numpy as np\n",
        "\n",
        "x_train = np.array([])\n",
        "x_test = np.array([])\n",
        "x_val = np.array([])\n",
        "y_train = np.array([])\n",
        "y_test = np.array([])\n",
        "y_val = np.array([])"
      ]
    },
    {
      "cell_type": "code",
      "execution_count": null,
      "metadata": {
        "colab": {
          "base_uri": "https://localhost:8080/",
          "height": 244
        },
        "id": "TLkEAYTTh9Vs",
        "outputId": "c8a9d68b-a80b-46e3-ff16-34268be6f3fe"
      },
      "outputs": [
        {
          "data": {
            "image/png": "[encoded data removed]",
            "text/plain": [
              "<PIL.JpegImagePlugin.JpegImageFile image mode=L size=227x227 at 0x7FD541189ED0>"
            ]
          },
          "execution_count": 8,
          "metadata": {},
          "output_type": "execute_result"
        }
      ],
      "source": [
        "# Example image\n",
        "Image.open(\"/content/hirise-map-proj-v3_2/map-proj-v3_2/ESP_011283_2265_RED-0013-brt.jpg\")"
      ]
    },
    {
      "cell_type": "markdown",
      "metadata": {
        "id": "tNO2-q1p3PYl"
      },
      "source": [
        "Build the `tf.keras` model using the Keras [model subclassing API](https://www.tensorflow.org/guide/keras#model_subclassing). We use convolutional layers to help our model capture and process image features."
      ]
    },
    {
      "cell_type": "markdown",
      "metadata": {
        "id": "iOrQB-7HAsSQ"
      },
      "source": [
        "*500+ images overloaded the RAM. Options:*\n",
        "\n",
        "\n",
        "1. Use local Jupyter notebook\n",
        "2. Use tf.keras.preprocessing.image_dataset_from_directory  to pull in images from a folder (like in DeepFire)\n",
        "2. Make the model leaner\n",
        "* Use `model.fit_generator` instead of `model.fit`\n",
        "* Flatten/condense convolutional layers\n",
        "* Reduce dense layer nodes\n",
        "* Hyperparameter tuning\n",
        "* Reducing image sizes (227 -> below 150); may reduce accuracy\n",
        "* Pre-built TFX component optimization\n",
        "  * Data feed (complex, but doesn't require saving data in memory)\n",
        "\n",
        "\n",
        "\n",
        "\n",
        "\n"
      ]
    },
    {
      "cell_type": "code",
      "execution_count": null,
      "metadata": {
        "colab": {
          "base_uri": "https://localhost:8080/"
        },
        "id": "RtckiFgfhfRb",
        "outputId": "c3e606a1-9787-4b1c-de06-db3acd5ed5b0"
      },
      "outputs": [
        {
          "name": "stdout",
          "output_type": "stream",
          "text": [
            "[198. 195. 192. ...  62.  61.  61.]\n"
          ]
        }
      ],
      "source": [
        "source = \"hirise-map-proj-v3_2/map-proj-v3_2/\"\n",
        "\n",
        "\n",
        "with open(\"hirise-map-proj-v3_2/labels-map-proj_v3_2_train_val_test.txt\") as f:\n",
        "  data = f.read().split(\"\\n\")\n",
        "\n",
        "  for i, image_label in enumerate(data):\n",
        "    if i >= 400:\n",
        "      break\n",
        "    path = image_label.split(\" \")\n",
        "    image = path[0]\n",
        "\n",
        "    if len(path) > 1:\n",
        "      label = path[1]\n",
        "      typ = path[2]\n",
        "\n",
        "    if typ == \"train\":\n",
        "      image_data = load_img(f\"hirise-map-proj-v3_2/map-proj-v3_2/{image}\", color_mode=\"grayscale\")\n",
        "      x_train = np.append(x_train, image_data)\n",
        "      y_train = np.append(y_train, int(label))\n",
        "\n",
        "    if typ == \"test\":\n",
        "      image_data = load_img(f\"hirise-map-proj-v3_2/map-proj-v3_2/{image}\", color_mode=\"grayscale\")\n",
        "      x_test = np.append(x_test, image_data)\n",
        "      y_test = np.append(y_test, int(label))\n",
        "\n",
        "    if typ == \"val\":\n",
        "      image_data = load_img(f\"hirise-map-proj-v3_2/map-proj-v3_2/{image}\", color_mode=\"grayscale\")\n",
        "      x_val = np.append(x_val, image_data)\n",
        "      y_val = np.append(y_val, int(label))\n",
        "            \n",
        "\n",
        "                \n",
        "print(x_train)\n"
      ]
    },
    {
      "cell_type": "markdown",
      "metadata": {
        "id": "dpbCp47L8Hxw"
      },
      "source": [
        "Normalize the images and reshape them."
      ]
    },
    {
      "cell_type": "code",
      "execution_count": null,
      "metadata": {
        "id": "vghhHZQh8G9K"
      },
      "outputs": [],
      "source": [
        "# Image Normalization\n",
        "x_train = x_train / 255.0\n",
        "x_test = x_test / 255.0\n",
        "x_val = x_val / 255.0"
      ]
    },
    {
      "cell_type": "code",
      "execution_count": null,
      "metadata": {
        "colab": {
          "base_uri": "https://localhost:8080/"
        },
        "id": "Rr6H1TWCeE2I",
        "outputId": "498c570e-ce41-4b2f-a523-d45c862c56e4"
      },
      "outputs": [
        {
          "name": "stdout",
          "output_type": "stream",
          "text": [
            "(20611600,)\n"
          ]
        }
      ],
      "source": [
        "print(x_train.shape)"
      ]
    },
    {
      "cell_type": "code",
      "execution_count": null,
      "metadata": {
        "colab": {
          "base_uri": "https://localhost:8080/"
        },
        "id": "9N-WPLwGmcET",
        "outputId": "1ced260e-e22e-49c4-c16d-ceaf54f628f8"
      },
      "outputs": [
        {
          "name": "stdout",
          "output_type": "stream",
          "text": [
            "(20611600,)\n"
          ]
        }
      ],
      "source": [
        "print(x_train.shape)"
      ]
    },
    {
      "cell_type": "code",
      "execution_count": null,
      "metadata": {
        "id": "grGTrGsnmV5w"
      },
      "outputs": [],
      "source": [
        "# Image Reshaping\n",
        "x_train = x_train.reshape(-1, 227, 227, 1)\n",
        "x_test = x_test.reshape(-1, 227, 227, 1)\n",
        "\n",
        "x_val = x_val.reshape(-1, 227, 227, 1)"
      ]
    },
    {
      "cell_type": "markdown",
      "metadata": {
        "id": "c8prw1gAv6mG"
      },
      "source": [
        "### Need y_train to be zero-indexed for label encoding"
      ]
    },
    {
      "cell_type": "code",
      "execution_count": null,
      "metadata": {
        "id": "l_83f3s4vuDs"
      },
      "outputs": [],
      "source": [
        "y_train -= 1\n",
        "y_val -= 1"
      ]
    },
    {
      "cell_type": "markdown",
      "metadata": {
        "id": "XUZvsvVm8VlV"
      },
      "source": [
        "Encode the labels."
      ]
    },
    {
      "cell_type": "code",
      "execution_count": null,
      "metadata": {
        "id": "UjpUhjlQmqkM"
      },
      "outputs": [],
      "source": [
        "# Label Encoding\n",
        "y_train = tf.keras.utils.to_categorical(y_train, num_classes=NUM_CLASSES)\n",
        "y_test = tf.keras.utils.to_categorical(y_test, num_classes=NUM_CLASSES)"
      ]
    },
    {
      "cell_type": "code",
      "execution_count": null,
      "metadata": {
        "id": "uxu3u5d-yjd2"
      },
      "outputs": [],
      "source": [
        "# Two convolutional layer steps to create feature mapping\n",
        "convolutional_layer_1 =   Conv2D(50,\n",
        "                                kernel_size=(3, 3),\n",
        "                                strides=(1, 1),\n",
        "                                padding=\"same\",\n",
        "                                activation=\"relu\",\n",
        "                                input_shape=(227, 227, 1))\n",
        "convolutional_layer_2 =   Conv2D(125,\n",
        "                                kernel_size=(3, 3),\n",
        "                                strides=(1, 1),\n",
        "                                padding=\"same\",\n",
        "                                activation=\"relu\")\n",
        "\n",
        "# Two corresponding pooling layers to reduce convolved dimensionality\n",
        "pooling_layer_1 =         MaxPool2D(pool_size=(2, 2))\n",
        "pooling_layer_2 =         MaxPool2D(pool_size=(2, 2), \n",
        "                                    strides=(2, 2))\n",
        "\n",
        "# Three dropout layers: two for the convolutions and one for the ANN\n",
        "dropout_layer_1 =         Dropout(0.25)\n",
        "\n",
        "\n",
        "dropout_layer_2 =         Dropout(0.25)\n",
        "dropout_layer_3 =         Dropout(0.5)\n",
        "\n",
        "# A flattening layer for ingestion into the ANN\n",
        "flattening_layer_1 =      Flatten()\n",
        "\n",
        "# Two dense layers to make up the significant ANN architecture\n",
        "connective_layer_1 =      Dense(256, \n",
        "                                activation=\"relu\")\n",
        "output_layer =            Dense(NUM_CLASSES, \n",
        "                                activation=\"softmax\")"
      ]
    },
    {
      "cell_type": "code",
      "execution_count": null,
      "metadata": {
        "colab": {
          "base_uri": "https://localhost:8080/"
        },
        "id": "48nzvT6Eyqqk",
        "outputId": "be486907-7bc9-47d8-f7ee-aea41655f3be"
      },
      "outputs": [
        {
          "name": "stdout",
          "output_type": "stream",
          "text": [
            "Model: \"sequential\"\n",
            "_________________________________________________________________\n",
            " Layer (type)                Output Shape              Param #   \n",
            "=================================================================\n",
            " conv2d (Conv2D)             (None, 227, 227, 50)      500       \n",
            "                                                                 \n",
            " max_pooling2d (MaxPooling2D  (None, 113, 113, 50)     0         \n",
            " )                                                               \n",
            "                                                                 \n",
            " dropout (Dropout)           (None, 113, 113, 50)      0         \n",
            "                                                                 \n",
            " conv2d_1 (Conv2D)           (None, 113, 113, 125)     56375     \n",
            "                                                                 \n",
            " max_pooling2d_1 (MaxPooling  (None, 56, 56, 125)      0         \n",
            " 2D)                                                             \n",
            "                                                                 \n",
            " dropout_1 (Dropout)         (None, 56, 56, 125)       0         \n",
            "                                                                 \n",
            " flatten (Flatten)           (None, 392000)            0         \n",
            "                                                                 \n",
            " dense (Dense)               (None, 256)               100352256 \n",
            "                                                                 \n",
            " dropout_2 (Dropout)         (None, 256)               0         \n",
            "                                                                 \n",
            " dense_1 (Dense)             (None, 7)                 1799      \n",
            "                                                                 \n",
            "=================================================================\n",
            "Total params: 100,410,930\n",
            "Trainable params: 100,410,930\n",
            "Non-trainable params: 0\n",
            "_________________________________________________________________\n"
          ]
        }
      ],
      "source": [
        "# Initialize sequential model schema\n",
        "model = Sequential()\n",
        "\n",
        "# Add first two convolutional feature mapping process layers\n",
        "model.add(convolutional_layer_1)\n",
        "model.add(pooling_layer_1)\n",
        "model.add(dropout_layer_1)\n",
        "\n",
        "# Add second convolutional feature mapping process layers\n",
        "model.add(convolutional_layer_2)\n",
        "model.add(pooling_layer_2)\n",
        "model.add(dropout_layer_2)\n",
        "\n",
        "# Add image vectorization process layer\n",
        "model.add(flattening_layer_1)\n",
        "\n",
        "# Add connective ANN process layers\n",
        "model.add(connective_layer_1)\n",
        "model.add(dropout_layer_3)\n",
        "model.add(output_layer)\n",
        "\n",
        "# Summarize model layering setup\n",
        "model.summary()"
      ]
    },
    {
      "cell_type": "code",
      "execution_count": null,
      "metadata": {
        "colab": {
          "base_uri": "https://localhost:8080/"
        },
        "id": "u1yt7fM4jGBX",
        "outputId": "18b08013-126e-404c-c7cc-97263c2fee78"
      },
      "outputs": [
        {
          "name": "stderr",
          "output_type": "stream",
          "text": [
            "/usr/local/lib/python3.7/dist-packages/keras/optimizer_v2/adam.py:105: UserWarning: The `lr` argument is deprecated, use `learning_rate` instead.\n",
            "  super(Adam, self).__init__(name, **kwargs)\n"
          ]
        }
      ],
      "source": [
        "# Define Adam optimization\n",
        "optimizer = tf.keras.optimizers.Adam(lr=0.001)"
      ]
    },
    {
      "cell_type": "code",
      "execution_count": null,
      "metadata": {
        "id": "kkOXz2m2l6-8"
      },
      "outputs": [],
      "source": [
        "# Set compilation properties\n",
        "model.compile(optimizer=optimizer,\n",
        "              loss=\"categorical_crossentropy\",\n",
        "              metrics=[\"accuracy\"])\n",
        "\n",
        "# Set epochs and batch size\n",
        "epochs, batch_size = 10, 250"
      ]
    },
    {
      "cell_type": "code",
      "execution_count": null,
      "metadata": {
        "colab": {
          "base_uri": "https://localhost:8080/"
        },
        "id": "I2WRDyj8wLjI",
        "outputId": "49efdbde-e2be-4b1a-bb1a-f14d56cc53aa"
      },
      "outputs": [
        {
          "name": "stdout",
          "output_type": "stream",
          "text": [
            "Model: \"sequential\"\n",
            "_________________________________________________________________\n",
            " Layer (type)                Output Shape              Param #   \n",
            "=================================================================\n",
            " conv2d (Conv2D)             (None, 227, 227, 50)      500       \n",
            "                                                                 \n",
            " max_pooling2d (MaxPooling2D  (None, 113, 113, 50)     0         \n",
            " )                                                               \n",
            "                                                                 \n",
            " dropout (Dropout)           (None, 113, 113, 50)      0         \n",
            "                                                                 \n",
            " conv2d_1 (Conv2D)           (None, 113, 113, 125)     56375     \n",
            "                                                                 \n",
            " max_pooling2d_1 (MaxPooling  (None, 56, 56, 125)      0         \n",
            " 2D)                                                             \n",
            "                                                                 \n",
            " dropout_1 (Dropout)         (None, 56, 56, 125)       0         \n",
            "                                                                 \n",
            " flatten (Flatten)           (None, 392000)            0         \n",
            "                                                                 \n",
            " dense (Dense)               (None, 256)               100352256 \n",
            "                                                                 \n",
            " dropout_2 (Dropout)         (None, 256)               0         \n",
            "                                                                 \n",
            " dense_1 (Dense)             (None, 7)                 1799      \n",
            "                                                                 \n",
            "=================================================================\n",
            "Total params: 100,410,930\n",
            "Trainable params: 100,410,930\n",
            "Non-trainable params: 0\n",
            "_________________________________________________________________\n"
          ]
        }
      ],
      "source": [
        "model.summary()"
      ]
    },
    {
      "cell_type": "code",
      "execution_count": null,
      "metadata": {
        "colab": {
          "base_uri": "https://localhost:8080/"
        },
        "id": "lWJENtcdnm2B",
        "outputId": "a28ec3e8-7ccb-4535-ba53-8a7b8a2f333e"
      },
      "outputs": [
        {
          "name": "stdout",
          "output_type": "stream",
          "text": [
            "Epoch 1/10\n",
            "13/13 [==============================] - 77s 6s/step - loss: 8.4937 - accuracy: 0.3975\n",
            "Epoch 2/10\n",
            "13/13 [==============================] - 73s 6s/step - loss: 1.1912 - accuracy: 0.4900\n",
            "Epoch 3/10\n",
            "13/13 [==============================] - 74s 6s/step - loss: 0.8119 - accuracy: 0.6550\n",
            "Epoch 4/10\n",
            "13/13 [==============================] - 74s 6s/step - loss: 0.6627 - accuracy: 0.7425\n",
            "Epoch 5/10\n",
            "13/13 [==============================] - 75s 6s/step - loss: 0.5188 - accuracy: 0.7850\n",
            "Epoch 6/10\n",
            "13/13 [==============================] - 74s 6s/step - loss: 0.4548 - accuracy: 0.8175\n",
            "Epoch 7/10\n",
            "13/13 [==============================] - 73s 6s/step - loss: 0.4360 - accuracy: 0.8300\n",
            "Epoch 8/10\n",
            "13/13 [==============================] - 77s 6s/step - loss: 0.2996 - accuracy: 0.8750\n",
            "Epoch 9/10\n",
            "13/13 [==============================] - 75s 6s/step - loss: 0.2502 - accuracy: 0.9050\n",
            "Epoch 10/10\n",
            "13/13 [==============================] - 74s 6s/step - loss: 0.2084 - accuracy: 0.9300\n"
          ]
        }
      ],
      "source": [
        "# Fit model using generator-augmented dataset and mini-batch ingestion\n",
        "history = model.fit(x_train, y_train,\n",
        "    epochs=epochs,\n",
        "    # validation_data=(x_test, y_test),\n",
        "    # steps_per_epoch=int(x_train.shape[0] // batch_size)\n",
        ")"
      ]
    },
    {
      "cell_type": "code",
      "execution_count": null,
      "metadata": {
        "id": "jt0tycXu6X5g"
      },
      "outputs": [],
      "source": [
        "# Save model objects - predictor and scaler object\n",
        "model.save('mars_landmark_classifier_model.h5')"
      ]
    },
    {
      "cell_type": "code",
      "execution_count": null,
      "metadata": {
        "id": "nRre-3bM92zE"
      },
      "outputs": [],
      "source": [
        "# Saving the model for Future Inferences\n",
        "\n",
        "model_json = model.to_json()\n",
        "with open(\"model.json\", \"w\") as json_file:\n",
        "    json_file.write(model_json)"
      ]
    },
    {
      "cell_type": "markdown",
      "metadata": {
        "id": "ukCoj-0CKYxk"
      },
      "source": [
        "## **Deploying the model**"
      ]
    },
    {
      "cell_type": "code",
      "execution_count": null,
      "metadata": {
        "colab": {
          "base_uri": "https://localhost:8080/"
        },
        "id": "l0j1FrbiXvg4",
        "outputId": "1223365f-619b-43a6-afca-9c3acdfac554"
      },
      "outputs": [
        {
          "name": "stdout",
          "output_type": "stream",
          "text": [
            "Requirement already satisfied: flask_ngrok in /usr/local/lib/python3.7/dist-packages (0.0.25)\n",
            "Requirement already satisfied: Flask>=0.8 in /usr/local/lib/python3.7/dist-packages (from flask_ngrok) (1.1.4)\n",
            "Requirement already satisfied: requests in /usr/local/lib/python3.7/dist-packages (from flask_ngrok) (2.23.0)\n",
            "Requirement already satisfied: Jinja2<3.0,>=2.10.1 in /usr/local/lib/python3.7/dist-packages (from Flask>=0.8->flask_ngrok) (2.11.3)\n",
            "Requirement already satisfied: click<8.0,>=5.1 in /usr/local/lib/python3.7/dist-packages (from Flask>=0.8->flask_ngrok) (7.1.2)\n",
            "Requirement already satisfied: itsdangerous<2.0,>=0.24 in /usr/local/lib/python3.7/dist-packages (from Flask>=0.8->flask_ngrok) (1.1.0)\n",
            "Requirement already satisfied: Werkzeug<2.0,>=0.15 in /usr/local/lib/python3.7/dist-packages (from Flask>=0.8->flask_ngrok) (1.0.1)\n",
            "Requirement already satisfied: MarkupSafe>=0.23 in /usr/local/lib/python3.7/dist-packages (from Jinja2<3.0,>=2.10.1->Flask>=0.8->flask_ngrok) (2.0.1)\n",
            "Requirement already satisfied: certifi>=2017.4.17 in /usr/local/lib/python3.7/dist-packages (from requests->flask_ngrok) (2021.10.8)\n",
            "Requirement already satisfied: idna<3,>=2.5 in /usr/local/lib/python3.7/dist-packages (from requests->flask_ngrok) (2.10)\n",
            "Requirement already satisfied: urllib3!=1.25.0,!=1.25.1,<1.26,>=1.21.1 in /usr/local/lib/python3.7/dist-packages (from requests->flask_ngrok) (1.24.3)\n",
            "Requirement already satisfied: chardet<4,>=3.0.2 in /usr/local/lib/python3.7/dist-packages (from requests->flask_ngrok) (3.0.4)\n"
          ]
        }
      ],
      "source": [
        "! pip install flask_ngrok"
      ]
    },
    {
      "cell_type": "code",
      "execution_count": null,
      "metadata": {
        "id": "3LFoZqrYZ8Fo"
      },
      "outputs": [],
      "source": [
        "! curl -s https://ngrok-agent.s3.amazonaws.com/ngrok.asc | sudo tee /etc/apt/trusted.gpg.d/ngrok.asc >/dev/null && echo \"deb https://ngrok-agent.s3.amazonaws.com buster main\" | sudo tee /etc/apt/sources.list.d/ngrok.list && sudo apt update && sudo apt install ngrok\n",
        "            "
      ]
    },
    {
      "cell_type": "code",
      "execution_count": null,
      "metadata": {
        "colab": {
          "base_uri": "https://localhost:8080/"
        },
        "id": "BCwZvjxIaWJ7",
        "outputId": "d87090e7-8eb4-406f-df0f-ea071a8548e7"
      },
      "outputs": [
        {
          "name": "stdout",
          "output_type": "stream",
          "text": [
            "Authtoken saved to configuration file: /root/.ngrok2/ngrok.yml\n"
          ]
        }
      ],
      "source": [
        "! ngrok config add-authtoken 29CqXvMwYWUTWGeBHWZuIbovyre_884qeE76QC4qeH9tsNDj2"
      ]
    },
    {
      "cell_type": "code",
      "execution_count": null,
      "metadata": {
        "colab": {
          "base_uri": "https://localhost:8080/"
        },
        "id": "ChWOWDBVfTk_",
        "outputId": "182baff4-ee64-430d-a4ba-41690f303fa5"
      },
      "outputs": [
        {
          "name": "stdout",
          "output_type": "stream",
          "text": [
            "Mounted at /content/drive\n"
          ]
        }
      ],
      "source": [
        "from google.colab import drive\n",
        "drive.mount('/content/drive')"
      ]
    },
    {
      "cell_type": "code",
      "execution_count": 184,
      "metadata": {
        "colab": {
          "base_uri": "https://localhost:8080/"
        },
        "id": "rCPbWxlqX2Yq",
        "outputId": "907ef1bc-75c0-4633-9c2e-0c2cce9b91b8"
      },
      "outputs": [
        {
          "metadata": {
            "tags": null
          },
          "name": "stdout",
          "output_type": "stream",
          "text": [
            " * Running on http://f70b-104-196-195-101.ngrok.io\n",
            " * Traffic stats available on http://127.0.0.1:4040\n"
          ]
        }
      ],
      "source": [
        "from flask_ngrok import run_with_ngrok\n",
        "from flask import Flask, render_template, request\n",
        "import pickle\n",
        "import numpy as np\n",
        "\n",
        "app = Flask(__name__)\n",
        "\n",
        "run_with_ngrok(app)\n",
        "\n",
        "model = pickle.load(open('/content/model_pkl', 'rb'))\n",
        "\n",
        "\n",
        "@app.route('/')\n",
        "def index_view():\n",
        "    #return index.html in templates folder\n",
        "    return '<html lang=\"en\"> <head> <meta charset=\"UTF-8\"> <meta name=\"viewport\" content=\"width=device-width, initial-scale=1.0\"><meta http-equiv=\"X-UA-Compatible\" content=\"ie=edge\"><title>Mars Classifier</title> <link rel=\"stylesheet\" href=\"https://stackpath.bootstrapcdn.com/bootstrap/4.3.1/css/bootstrap.min.css\" integrity=\"sha384-ggOyR0iXCbMQv3Xipma34MD+dH/1fQ784/j6cY/iJTQUOhcWr7x9JvoRxT2MZw1T\" crossorigin=\"anonymous\"> <link rel=\"stylesheet\" href=\"css/style.css\"></head><body><div class=\"container\"><div class=\"row\"><div class=\"col-md-12\"><h1>Upload an image to predict</h1><form action=\"/predict\" method=\"post\" enctype=\"multipart/form-data\"><input type=\"file\" name=\"image\"> <input type=\"submit\" name=\"submit\" value=\"Predict\"></form></div></div></body></html>'\n",
        "\n",
        "\n",
        "@app.route('/predict/',methods=['GET','POST'])\n",
        "def predict():\n",
        "\t# load an image from a file passed in the input field in index.html, and resize it to 128x128x3 pixels\n",
        "    if request.method == 'POST':\n",
        "        img = request.files['image'].read()\n",
        "        img = base64.b64decode(img)\n",
        "        img = np.frombuffer(img, dtype=np.uint8)\n",
        "        img = cv2.imdecode(img, cv2.IMREAD_COLOR)\n",
        "        img = cv2.resize(img, (128, 128))\n",
        "        img = img.astype(np.float32)\n",
        "        img = np.expand_dims(img, axis=0)\n",
        "        img = img / 255.0\n",
        "        with graph.as_default():\n",
        "            pred = model.predict(img)\n",
        "            pred = np.argmax(pred, axis=1)\n",
        "            pred = pred[0]\n",
        "            print(pred)\n",
        "            return str(pred)\n",
        "    return \"error\"\n",
        "\n",
        "app.run()"
      ]
    },
    {
      "cell_type": "code",
      "execution_count": null,
      "metadata": {
        "colab": {
          "base_uri": "https://localhost:8080/"
        },
        "id": "1iqL51WuU12B",
        "outputId": "fefc969d-483d-4aa2-ea08-185a0a30155a"
      },
      "outputs": [
        {
          "name": "stdout",
          "output_type": "stream",
          "text": [
            "Mounted at /content/drive\n"
          ]
        }
      ],
      "source": [
        "# from google.colab import drive\n",
        "# drive.mount('/content/drive')"
      ]
    },
    {
      "cell_type": "code",
      "execution_count": null,
      "metadata": {
        "id": "VhWW_U6jTrpw"
      },
      "outputs": [],
      "source": [
        "# loading library\n",
        "# import pickle"
      ]
    },
    {
      "cell_type": "code",
      "execution_count": null,
      "metadata": {
        "colab": {
          "base_uri": "https://localhost:8080/"
        },
        "id": "hV2KT5RSTsVD",
        "outputId": "192ae15c-390c-4da7-d77d-4b0ff2bbd1b9"
      },
      "outputs": [
        {
          "name": "stdout",
          "output_type": "stream",
          "text": [
            "INFO:tensorflow:Assets written to: ram://168674c2-c99d-45d9-aaee-7e3d22cd21a2/assets\n"
          ]
        }
      ],
      "source": [
        "# # create an iterator object with write permission - model.pkl\n",
        "# with open('model_pkl', 'wb') as files:\n",
        "#     pickle.dump(model, files)"
      ]
    },
    {
      "cell_type": "code",
      "execution_count": null,
      "metadata": {
        "colab": {
          "base_uri": "https://localhost:8080/"
        },
        "id": "ldXfUInxSrOx",
        "outputId": "3732c920-2083-4759-f325-76de6533c8c2"
      },
      "outputs": [
        {
          "name": "stdout",
          "output_type": "stream",
          "text": [
            "Collecting flask-ngrok\n",
            "  Downloading flask_ngrok-0.0.25-py3-none-any.whl (3.1 kB)\n",
            "Requirement already satisfied: Flask>=0.8 in /usr/local/lib/python3.7/dist-packages (from flask-ngrok) (1.1.4)\n",
            "Requirement already satisfied: requests in /usr/local/lib/python3.7/dist-packages (from flask-ngrok) (2.23.0)\n",
            "Requirement already satisfied: Werkzeug<2.0,>=0.15 in /usr/local/lib/python3.7/dist-packages (from Flask>=0.8->flask-ngrok) (1.0.1)\n",
            "Requirement already satisfied: click<8.0,>=5.1 in /usr/local/lib/python3.7/dist-packages (from Flask>=0.8->flask-ngrok) (7.1.2)\n",
            "Requirement already satisfied: itsdangerous<2.0,>=0.24 in /usr/local/lib/python3.7/dist-packages (from Flask>=0.8->flask-ngrok) (1.1.0)\n",
            "Requirement already satisfied: Jinja2<3.0,>=2.10.1 in /usr/local/lib/python3.7/dist-packages (from Flask>=0.8->flask-ngrok) (2.11.3)\n",
            "Requirement already satisfied: MarkupSafe>=0.23 in /usr/local/lib/python3.7/dist-packages (from Jinja2<3.0,>=2.10.1->Flask>=0.8->flask-ngrok) (2.0.1)\n",
            "Requirement already satisfied: chardet<4,>=3.0.2 in /usr/local/lib/python3.7/dist-packages (from requests->flask-ngrok) (3.0.4)\n",
            "Requirement already satisfied: urllib3!=1.25.0,!=1.25.1,<1.26,>=1.21.1 in /usr/local/lib/python3.7/dist-packages (from requests->flask-ngrok) (1.24.3)\n",
            "Requirement already satisfied: idna<3,>=2.5 in /usr/local/lib/python3.7/dist-packages (from requests->flask-ngrok) (2.10)\n",
            "Requirement already satisfied: certifi>=2017.4.17 in /usr/local/lib/python3.7/dist-packages (from requests->flask-ngrok) (2021.10.8)\n",
            "Installing collected packages: flask-ngrok\n",
            "Successfully installed flask-ngrok-0.0.25\n"
          ]
        }
      ],
      "source": [
        "# ! pip install flask-ngrok"
      ]
    },
    {
      "cell_type": "code",
      "execution_count": null,
      "metadata": {
        "colab": {
          "base_uri": "https://localhost:8080/",
          "height": 385
        },
        "id": "u3hqJ2ie50ui",
        "outputId": "bdb570ad-cdea-4b48-ae53-3765bc176d65"
      },
      "outputs": [
        {
          "ename": "ImportError",
          "evalue": "ignored",
          "output_type": "error",
          "traceback": [
            "\u001b[0;31m---------------------------------------------------------------------------\u001b[0m",
            "\u001b[0;31mImportError\u001b[0m                               Traceback (most recent call last)",
            "\u001b[0;32m<ipython-input-141-97512b908117>\u001b[0m in \u001b[0;36m<module>\u001b[0;34m()\u001b[0m\n\u001b[1;32m      1\u001b[0m \u001b[0;31m# # imports\u001b[0m\u001b[0;34m\u001b[0m\u001b[0;34m\u001b[0m\u001b[0;34m\u001b[0m\u001b[0m\n\u001b[1;32m      2\u001b[0m \u001b[0;31m# !pip3 install keras\u001b[0m\u001b[0;34m\u001b[0m\u001b[0;34m\u001b[0m\u001b[0;34m\u001b[0m\u001b[0m\n\u001b[0;32m----> 3\u001b[0;31m \u001b[0;32mfrom\u001b[0m \u001b[0mkeras\u001b[0m \u001b[0;32mimport\u001b[0m \u001b[0mmodel_from_json\u001b[0m\u001b[0;34m\u001b[0m\u001b[0;34m\u001b[0m\u001b[0m\n\u001b[0m\u001b[1;32m      4\u001b[0m \u001b[0;34m\u001b[0m\u001b[0m\n\u001b[1;32m      5\u001b[0m \u001b[0;31m# opening and store file in a variable\u001b[0m\u001b[0;34m\u001b[0m\u001b[0;34m\u001b[0m\u001b[0;34m\u001b[0m\u001b[0m\n",
            "\u001b[0;31mImportError\u001b[0m: cannot import name 'model_from_json' from 'keras' (/usr/local/lib/python3.7/dist-packages/keras/__init__.py)",
            "",
            "\u001b[0;31m---------------------------------------------------------------------------\u001b[0;32m\nNOTE: If your import is failing due to a missing package, you can\nmanually install dependencies using either !pip or !apt.\n\nTo view examples of installing some common dependencies, click the\n\"Open Examples\" button below.\n\u001b[0;31m---------------------------------------------------------------------------\u001b[0m\n"
          ]
        }
      ],
      "source": [
        "# # # imports\n",
        "# # !pip3 install keras\n",
        "# from keras import model_from_json \n",
        "\n",
        "# # opening and store file in a variable\n",
        "\n",
        "# json_file = open('model.json','r')\n",
        "# loaded_model_json = json_file.read()\n",
        "# json_file.close()\n",
        "\n",
        "# # use Keras model_from_json to make a loaded model\n",
        "\n",
        "# loaded_model = model_from_json(loaded_model_json)\n",
        "\n",
        "# # load weights into new model\n",
        "\n",
        "# loaded_model.load_weights(\"model.h5\")\n",
        "# print(\"Loaded Model from disk\")\n",
        "\n",
        "# # compile and evaluate loaded model\n",
        "\n",
        "# loaded_model.compile(loss='categorical_crossentropy',optimizer='adam',metrics=['accuracy'])\n"
      ]
    },
    {
      "cell_type": "markdown",
      "metadata": {
        "id": "W6sc3-WFhidZ"
      },
      "source": [
        "# Alternate model"
      ]
    },
    {
      "cell_type": "code",
      "execution_count": null,
      "metadata": {
        "id": "9UjFSg-Z1SU8"
      },
      "outputs": [],
      "source": [
        "class ConvModel(Model):\n",
        "  def __init__(self):\n",
        "    super(ConvModel, self).__init__()\n",
        "    # Three convolutional layer steps to create more complex feature mapping\n",
        "    # Two corresponding pooling layers to reduce convolved dimensionality\n",
        "    # Four dropout layers: two for the convolutions and two for the ANN\n",
        "    # A flattening layer for ingestion into the ANN\n",
        "    # Three dense layers to make up the significant ANN architecture\n",
        "    self.conv1 = Conv2D(50,\n",
        "                        kernel_size=(3, 3),\n",
        "                        strides=(1, 1),\n",
        "                        padding=\"same\",\n",
        "                        activation=\"relu\",\n",
        "                        input_shape=(10, 227, 227, 1))\n",
        "    self.conv2 = Conv2D(75,\n",
        "                        kernel_size=(3, 3),\n",
        "                        strides=(1, 1),\n",
        "                        padding=\"same\",\n",
        "                        activation=\"relu\")\n",
        "    self.pool1 = MaxPool2D(pool_size=(2, 2))\n",
        "    self.dropout1 = Dropout(0.25)\n",
        "    self.conv3 = Conv2D(125,\n",
        "                        kernel_size=(3, 3),\n",
        "                        strides=(1, 1),\n",
        "                        padding=\"same\",\n",
        "                        activation=\"relu\")\n",
        "    self.pool2 = MaxPool2D(pool_size=(2, 2))\n",
        "    self.dropout2 = Dropout(0.25)\n",
        "    self.flatten = Flatten()\n",
        "    self.d1 = Dense(500, activation=\"relu\")\n",
        "    self.dropout3 = Dropout(0.3)\n",
        "    self.d2 = Dense(250, activation=\"relu\")\n",
        "    self.dropout4 = Dropout(0.35)\n",
        "    self.dense_output = Dense(NUM_CLASSES, activation=\"softmax\")\n",
        "\n",
        "\n",
        "  def call(self, x):\n",
        "    x = self.conv1(x)\n",
        "    x = self.flatten(x)\n",
        "    x = self.d1(x)\n",
        "    return self.d2(x)\n",
        "\n",
        "# Create an instance of the model\n",
        "model = ConvModel()"
      ]
    },
    {
      "cell_type": "code",
      "execution_count": null,
      "metadata": {
        "id": "uU3GyXF95z3o"
      },
      "outputs": [],
      "source": [
        ""
      ]
    },
    {
      "cell_type": "code",
      "execution_count": null,
      "metadata": {
        "id": "KGyFuE3RgYiN"
      },
      "outputs": [],
      "source": [
        "# Grayscale Validation - DON'T DELETE\n",
        "for i in range(0, len(x_train) - 3, 3):\n",
        "  if not (x_train[i] == x_train[i+1] and x_train[i] == x_train[i+2]):\n",
        "    print(i)"
      ]
    }
  ],
  "metadata": {
    "colab": {
      "collapsed_sections": [
        "W6sc3-WFhidZ"
      ],
      "name": "Mars_Landmark_Classifier.ipynb",
      "provenance": []
    },
    "kernelspec": {
      "display_name": "Python 3",
      "name": "python3"
    },
    "language_info": {
      "name": "python"
    }
  },
  "nbformat": 4,
  "nbformat_minor": 0
}